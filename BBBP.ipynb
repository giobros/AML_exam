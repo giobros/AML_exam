{
 "cells": [
  {
   "cell_type": "markdown",
   "id": "641e6225",
   "metadata": {},
   "source": [
    "BBBP Dataset\\\n",
    "BBBP stands for Blood-Brain Barrier Penetration. The BBBP dataset consists of molecular features extracted from chemical compounds along with their BBBP values. \n",
    "This dataset includes binary labels for over 2000 compounds on their permeability properties.\n",
    "\n",
    "    The raw data csv file contains columns below:\n",
    "\n",
    "    - \"name\" - Name of the compound\n",
    "    - \"smiles\" - SMILES representation of the molecular structure (a text-based notation that encodes the structure of chemical molecules )\n",
    "    - \"p_np\" - Binary labels for penetration/non-penetration (1: Penetrates, 0: Doesn't Penetrate)\n",
    "\n"
   ]
  },
  {
   "cell_type": "code",
   "execution_count": 4,
   "id": "da7ae92c",
   "metadata": {},
   "outputs": [],
   "source": [
    "from numpy import set_printoptions\n",
    "from sklearn.feature_selection import SelectKBest\n",
    "from sklearn.feature_selection import chi2\n",
    "import pandas as pd\n",
    "import os\n",
    "\n",
    "data = pd.read_csv(\"./BBBP.csv\")  "
   ]
  },
  {
   "cell_type": "code",
   "execution_count": 5,
   "id": "10a352e2",
   "metadata": {},
   "outputs": [
    {
     "name": "stdout",
     "output_type": "stream",
     "text": [
      "p_np\n",
      "0     483\n",
      "1    1567\n",
      "dtype: int64\n"
     ]
    }
   ],
   "source": [
    "class_counts = data.groupby('p_np').size()\n",
    "print(class_counts)"
   ]
  },
  {
   "cell_type": "markdown",
   "id": "ac81fa78",
   "metadata": {},
   "source": [
    "\n",
    "Class 1 (Penetrant / BBB+) is the majority class (~77%)\n",
    "\n",
    "Class 0 (Non-penetrant / BBB−) is the minority class (~23%)\n"
   ]
  },
  {
   "cell_type": "markdown",
   "id": "d022c3a3",
   "metadata": {},
   "source": [
    "What Are Molecular Descriptors?\\\n",
    "Molecular descriptors are numerical values that quantitatively describe various chemical and physical properties of molecules. They act as features in machine learning models, enabling algorithms to \"understand\" molecules by transforming them from complex chemical structures into fixed-size numerical vectors.\\\n",
    "\n",
    "Below I implemented two typically used descriptor calculator: RDKit and Mordred (built on top of RDKit).\\\n",
    "\n",
    "\n",
    "Workflow:\n",
    "Converts SMILES to molecules-->\n",
    "Computes descriptors (rdkit or mordred)-->\n",
    "Cleans and scales the resulting feature set-->\n",
    "Optionally re-attaches:\n",
    "Molecule names or IDs\n",
    "Target/label values\n",
    "\n",
    "Returns the final descriptor matrix (with rdkit or mordred)"
   ]
  },
  {
   "cell_type": "code",
   "execution_count": 9,
   "id": "deeddcbd",
   "metadata": {},
   "outputs": [],
   "source": [
    "import pandas as pd\n",
    "import numpy as np\n",
    "from rdkit import Chem\n",
    "from sklearn.impute import SimpleImputer\n",
    "from sklearn.preprocessing import StandardScaler\n",
    "from mordred import Calculator, descriptors as mordred_descriptors\n",
    "from rdkit.Chem import Descriptors\n",
    "from rdkit.ML.Descriptors import MoleculeDescriptors\n",
    "from rdkit import RDLogger\n",
    "RDLogger.DisableLog('rdApp.*')\n",
    "\n",
    "\n",
    "def smiles_to_mols(smiles_list):\n",
    "    mols = []\n",
    "    valid_idx = []\n",
    "    for i, smi in enumerate(smiles_list):\n",
    "        mol = Chem.MolFromSmiles(smi)\n",
    "        if mol:\n",
    "            mols.append(mol)\n",
    "            valid_idx.append(i)\n",
    "    return mols, valid_idx\n",
    "\n",
    "def compute_mordred(mols):\n",
    "    calc = Calculator(mordred_descriptors, ignore_3D=True)\n",
    "    return calc.pandas(mols)\n",
    "\n",
    "\n",
    "def compute_rdkit(mols):\n",
    "    desc_names = [d[0] for d in Descriptors._descList]\n",
    "    calc = MoleculeDescriptors.MolecularDescriptorCalculator(desc_names)\n",
    "    \n",
    "    desc_data = []\n",
    "    for mol in mols:\n",
    "        mol = Chem.AddHs(mol)\n",
    "        desc = calc.CalcDescriptors(mol)\n",
    "        desc_data.append(desc)\n",
    "    \n",
    "    return pd.DataFrame(desc_data, columns=desc_names)\n",
    "\n",
    "def clean_scale(df):\n",
    "    \"\"\"Remove columns with ≥10% missing values\n",
    "      Keep only numeric columns\n",
    "      Remove constant columns\n",
    "      Impute missing values with column means\n",
    "      Standardize (z-score normalization) all features\"\"\"\n",
    "    \n",
    "    df = df.dropna(axis=1, thresh=int(0.9 * len(df)))\n",
    "    df = df.select_dtypes(include=[np.number])\n",
    "    df = df.loc[:, (df != df.iloc[0]).any()]\n",
    "    \n",
    "    imputer = SimpleImputer(strategy='mean')\n",
    "    scaler = StandardScaler()\n",
    "    imputed = imputer.fit_transform(df)\n",
    "    scaled = scaler.fit_transform(imputed)\n",
    "    \n",
    "    return pd.DataFrame(scaled, columns=df.columns)\n",
    "\n",
    "def prepare_descriptors(data,name_col = None ,smiles_col='smiles', target_col=None, method=None):\n",
    "   \n",
    "    mols, valid_idx = smiles_to_mols(data[smiles_col])\n",
    "    smiles_valid = data.iloc[valid_idx][smiles_col].reset_index(drop=True)\n",
    "    \n",
    "    if method == 'mordred':\n",
    "        desc_df = compute_mordred(mols)\n",
    "    elif method == 'rdkit':\n",
    "        desc_df = compute_rdkit(mols)\n",
    "    else:\n",
    "        raise ValueError(\"Invalid method: choose 'rdkit' or 'mordred'\")\n",
    "\n",
    "    desc_df = clean_scale(desc_df)\n",
    "\n",
    " \n",
    "    if name_col:\n",
    "        name_series = data.iloc[valid_idx][name_col].reset_index(drop=True)\n",
    "        desc_df.insert(0, name_col, name_series)\n",
    "    if target_col:\n",
    "        target_series = data.iloc[valid_idx][target_col].reset_index(drop=True)\n",
    "        desc_df[target_col] = target_series\n",
    "\n",
    "    return desc_df\n"
   ]
  },
  {
   "cell_type": "code",
   "execution_count": 10,
   "id": "0921cb84",
   "metadata": {},
   "outputs": [
    {
     "ename": "KeyboardInterrupt",
     "evalue": "",
     "output_type": "error",
     "traceback": [
      "\u001b[0;31m---------------------------------------------------------------------------\u001b[0m",
      "\u001b[0;31mKeyboardInterrupt\u001b[0m                         Traceback (most recent call last)",
      "Cell \u001b[0;32mIn[10], line 1\u001b[0m\n\u001b[0;32m----> 1\u001b[0m df_rdkit \u001b[38;5;241m=\u001b[39m \u001b[43mprepare_descriptors\u001b[49m\u001b[43m(\u001b[49m\u001b[43mdata\u001b[49m\u001b[43m,\u001b[49m\u001b[43m  \u001b[49m\u001b[43mname_col\u001b[49m\u001b[38;5;241;43m=\u001b[39;49m\u001b[38;5;124;43m\"\u001b[39;49m\u001b[38;5;124;43mname\u001b[39;49m\u001b[38;5;124;43m\"\u001b[39;49m\u001b[43m,\u001b[49m\u001b[43m \u001b[49m\u001b[43msmiles_col\u001b[49m\u001b[38;5;241;43m=\u001b[39;49m\u001b[38;5;124;43m\"\u001b[39;49m\u001b[38;5;124;43msmiles\u001b[39;49m\u001b[38;5;124;43m\"\u001b[39;49m\u001b[43m,\u001b[49m\u001b[43m \u001b[49m\u001b[43mtarget_col\u001b[49m\u001b[38;5;241;43m=\u001b[39;49m\u001b[38;5;124;43m\"\u001b[39;49m\u001b[38;5;124;43mp_np\u001b[39;49m\u001b[38;5;124;43m\"\u001b[39;49m\u001b[43m,\u001b[49m\u001b[43m \u001b[49m\u001b[43mmethod\u001b[49m\u001b[38;5;241;43m=\u001b[39;49m\u001b[38;5;124;43m\"\u001b[39;49m\u001b[38;5;124;43mrdkit\u001b[39;49m\u001b[38;5;124;43m\"\u001b[39;49m\u001b[43m)\u001b[49m\n",
      "Cell \u001b[0;32mIn[9], line 66\u001b[0m, in \u001b[0;36mprepare_descriptors\u001b[0;34m(data, name_col, smiles_col, target_col, method)\u001b[0m\n\u001b[1;32m     64\u001b[0m     desc_df \u001b[38;5;241m=\u001b[39m compute_mordred(mols)\n\u001b[1;32m     65\u001b[0m \u001b[38;5;28;01melif\u001b[39;00m method \u001b[38;5;241m==\u001b[39m \u001b[38;5;124m'\u001b[39m\u001b[38;5;124mrdkit\u001b[39m\u001b[38;5;124m'\u001b[39m:\n\u001b[0;32m---> 66\u001b[0m     desc_df \u001b[38;5;241m=\u001b[39m \u001b[43mcompute_rdkit\u001b[49m\u001b[43m(\u001b[49m\u001b[43mmols\u001b[49m\u001b[43m)\u001b[49m\n\u001b[1;32m     67\u001b[0m \u001b[38;5;28;01melse\u001b[39;00m:\n\u001b[1;32m     68\u001b[0m     \u001b[38;5;28;01mraise\u001b[39;00m \u001b[38;5;167;01mValueError\u001b[39;00m(\u001b[38;5;124m\"\u001b[39m\u001b[38;5;124mInvalid method: choose \u001b[39m\u001b[38;5;124m'\u001b[39m\u001b[38;5;124mrdkit\u001b[39m\u001b[38;5;124m'\u001b[39m\u001b[38;5;124m or \u001b[39m\u001b[38;5;124m'\u001b[39m\u001b[38;5;124mmordred\u001b[39m\u001b[38;5;124m'\u001b[39m\u001b[38;5;124m\"\u001b[39m)\n",
      "Cell \u001b[0;32mIn[9], line 35\u001b[0m, in \u001b[0;36mcompute_rdkit\u001b[0;34m(mols)\u001b[0m\n\u001b[1;32m     33\u001b[0m \u001b[38;5;28;01mfor\u001b[39;00m mol \u001b[38;5;129;01min\u001b[39;00m mols:\n\u001b[1;32m     34\u001b[0m     mol \u001b[38;5;241m=\u001b[39m Chem\u001b[38;5;241m.\u001b[39mAddHs(mol)\n\u001b[0;32m---> 35\u001b[0m     desc \u001b[38;5;241m=\u001b[39m \u001b[43mcalc\u001b[49m\u001b[38;5;241;43m.\u001b[39;49m\u001b[43mCalcDescriptors\u001b[49m\u001b[43m(\u001b[49m\u001b[43mmol\u001b[49m\u001b[43m)\u001b[49m\n\u001b[1;32m     36\u001b[0m     desc_data\u001b[38;5;241m.\u001b[39mappend(desc)\n\u001b[1;32m     38\u001b[0m \u001b[38;5;28;01mreturn\u001b[39;00m pd\u001b[38;5;241m.\u001b[39mDataFrame(desc_data, columns\u001b[38;5;241m=\u001b[39mdesc_names)\n",
      "File \u001b[0;32m~/miniforge3/envs/AML_exam_env/lib/python3.9/site-packages/rdkit/ML/Descriptors/MoleculeDescriptors.py:88\u001b[0m, in \u001b[0;36mMolecularDescriptorCalculator.CalcDescriptors\u001b[0;34m(self, mol, *args, **kwargs)\u001b[0m\n\u001b[1;32m     86\u001b[0m fn \u001b[38;5;241m=\u001b[39m \u001b[38;5;28mgetattr\u001b[39m(DescriptorsMod, nm, \u001b[38;5;28;01mlambda\u001b[39;00m x: \u001b[38;5;241m777\u001b[39m)\n\u001b[1;32m     87\u001b[0m \u001b[38;5;28;01mtry\u001b[39;00m:\n\u001b[0;32m---> 88\u001b[0m   res[i] \u001b[38;5;241m=\u001b[39m \u001b[43mfn\u001b[49m\u001b[43m(\u001b[49m\u001b[43mmol\u001b[49m\u001b[43m)\u001b[49m\n\u001b[1;32m     89\u001b[0m \u001b[38;5;28;01mexcept\u001b[39;00m \u001b[38;5;167;01mException\u001b[39;00m:\n\u001b[1;32m     90\u001b[0m   \u001b[38;5;28;01mimport\u001b[39;00m\u001b[38;5;250m \u001b[39m\u001b[38;5;21;01mtraceback\u001b[39;00m\n",
      "File \u001b[0;32m~/miniforge3/envs/AML_exam_env/lib/python3.9/site-packages/rdkit/Chem/GraphDescriptors.py:436\u001b[0m, in \u001b[0;36m<lambda>\u001b[0;34m(x)\u001b[0m\n\u001b[1;32m    434\u001b[0m Chi3v \u001b[38;5;241m=\u001b[39m \u001b[38;5;28;01mlambda\u001b[39;00m x: rdMolDescriptors\u001b[38;5;241m.\u001b[39mCalcChi3v(x)\n\u001b[1;32m    435\u001b[0m Chi3v\u001b[38;5;241m.\u001b[39mversion \u001b[38;5;241m=\u001b[39m rdMolDescriptors\u001b[38;5;241m.\u001b[39m_CalcChi3v_version\n\u001b[0;32m--> 436\u001b[0m Chi4v \u001b[38;5;241m=\u001b[39m \u001b[38;5;28;01mlambda\u001b[39;00m x: \u001b[43mrdMolDescriptors\u001b[49m\u001b[38;5;241;43m.\u001b[39;49m\u001b[43mCalcChi4v\u001b[49m\u001b[43m(\u001b[49m\u001b[43mx\u001b[49m\u001b[43m)\u001b[49m\n\u001b[1;32m    437\u001b[0m Chi4v\u001b[38;5;241m.\u001b[39mversion \u001b[38;5;241m=\u001b[39m rdMolDescriptors\u001b[38;5;241m.\u001b[39m_CalcChi4v_version\n\u001b[1;32m    438\u001b[0m ChiNv_ \u001b[38;5;241m=\u001b[39m \u001b[38;5;28;01mlambda\u001b[39;00m x, y: rdMolDescriptors\u001b[38;5;241m.\u001b[39mCalcChiNv(x, y)\n",
      "\u001b[0;31mKeyboardInterrupt\u001b[0m: "
     ]
    }
   ],
   "source": [
    "\n",
    "df_rdkit = prepare_descriptors(data,  name_col=\"name\", smiles_col=\"smiles\", target_col=\"p_np\", method=\"rdkit\")"
   ]
  },
  {
   "cell_type": "code",
   "execution_count": null,
   "id": "6aa26057",
   "metadata": {},
   "outputs": [],
   "source": [
    "\n",
    "df_rdkit.to_csv(\"BBBP_rdkit_descriptors.csv\", index=False)\n"
   ]
  },
  {
   "cell_type": "code",
   "execution_count": null,
   "id": "6b0d4b05",
   "metadata": {},
   "outputs": [
    {
     "name": "stdout",
     "output_type": "stream",
     "text": [
      "/home/gbrosio@iit.local/miniforge3/envs/AML_exa_env/lib/python3.9/site-packages/numpy/core/fromnumeric.py:86: RuntimeWarning: overflow encountered in reduce\n",
      "  return ufunc.reduce(obj, axis, dtype, out, **passkwargs)\n",
      "/home/gbrosio@iit.local/miniforge3/envs/AML_exa_env/lib/python3.9/site-packages/numpy/core/fromnumeric.py:86: RuntimeWarning: overflow encountered in reduce\n",
      "  return ufunc.reduce(obj, axis, dtype, out, **passkwargs)\n",
      "/home/gbrosio@iit.local/miniforge3/envs/AML_exa_env/lib/python3.9/site-packages/numpy/core/fromnumeric.py:86: RuntimeWarning: overflow encountered in reduce\n",
      "  return ufunc.reduce(obj, axis, dtype, out, **passkwargs)\n",
      "/home/gbrosio@iit.local/miniforge3/envs/AML_exa_env/lib/python3.9/site-packages/numpy/core/fromnumeric.py:86: RuntimeWarning: overflow encountered in reduce\n",
      "  return ufunc.reduce(obj, axis, dtype, out, **passkwargs)\n",
      "/home/gbrosio@iit.local/miniforge3/envs/AML_exa_env/lib/python3.9/site-packages/numpy/core/fromnumeric.py:86: RuntimeWarning: overflow encountered in reduce\n",
      "  return ufunc.reduce(obj, axis, dtype, out, **passkwargs)\n",
      "/home/gbrosio@iit.local/miniforge3/envs/AML_exa_env/lib/python3.9/site-packages/numpy/core/fromnumeric.py:86: RuntimeWarning: overflow encountered in reduce\n",
      "  return ufunc.reduce(obj, axis, dtype, out, **passkwargs)\n",
      "/home/gbrosio@iit.local/miniforge3/envs/AML_exa_env/lib/python3.9/site-packages/numpy/core/fromnumeric.py:86: RuntimeWarning: overflow encountered in reduce\n",
      "  return ufunc.reduce(obj, axis, dtype, out, **passkwargs)\n",
      "/home/gbrosio@iit.local/miniforge3/envs/AML_exa_env/lib/python3.9/site-packages/numpy/core/fromnumeric.py:86: RuntimeWarning: overflow encountered in reduce\n",
      "  return ufunc.reduce(obj, axis, dtype, out, **passkwargs)\n",
      "/home/gbrosio@iit.local/miniforge3/envs/AML_exa_env/lib/python3.9/site-packages/numpy/core/fromnumeric.py:86: RuntimeWarning: overflow encountered in reduce\n",
      "  return ufunc.reduce(obj, axis, dtype, out, **passkwargs)\n",
      "/home/gbrosio@iit.local/miniforge3/envs/AML_exa_env/lib/python3.9/site-packages/numpy/core/fromnumeric.py:86: RuntimeWarning: overflow encountered in reduce\n",
      "  return ufunc.reduce(obj, axis, dtype, out, **passkwargs)\n",
      "/home/gbrosio@iit.local/miniforge3/envs/AML_exa_env/lib/python3.9/site-packages/numpy/core/fromnumeric.py:86: RuntimeWarning: overflow encountered in reduce\n",
      "  return ufunc.reduce(obj, axis, dtype, out, **passkwargs)\n",
      "/home/gbrosio@iit.local/miniforge3/envs/AML_exa_env/lib/python3.9/site-packages/numpy/core/fromnumeric.py:86: RuntimeWarning: overflow encountered in reduce\n",
      "  return ufunc.reduce(obj, axis, dtype, out, **passkwargs)\n",
      "/home/gbrosio@iit.local/miniforge3/envs/AML_exa_env/lib/python3.9/site-packages/numpy/core/fromnumeric.py:86: RuntimeWarning: overflow encountered in reduce\n",
      "  return ufunc.reduce(obj, axis, dtype, out, **passkwargs)\n",
      "/home/gbrosio@iit.local/miniforge3/envs/AML_exa_env/lib/python3.9/site-packages/numpy/core/fromnumeric.py:86: RuntimeWarning: overflow encountered in reduce\n",
      "  return ufunc.reduce(obj, axis, dtype, out, **passkwargs)\n",
      "/home/gbrosio@iit.local/miniforge3/envs/AML_exa_env/lib/python3.9/site-packages/numpy/core/fromnumeric.py:86: RuntimeWarning: overflow encountered in reduce\n",
      "  return ufunc.reduce(obj, axis, dtype, out, **passkwargs)\n"
     ]
    }
   ],
   "source": [
    "df_mordred = prepare_descriptors(data,  name_col=\"name\",smiles_col=\"smiles\", target_col=\"p_np\", method=\"mordred\")\n",
    "\n"
   ]
  },
  {
   "cell_type": "code",
   "execution_count": null,
   "id": "8ef60473",
   "metadata": {},
   "outputs": [],
   "source": [
    "\n",
    "df_mordred.to_csv(\"BBBP_mordred_descriptors.csv\", index=False)"
   ]
  },
  {
   "cell_type": "markdown",
   "id": "7d537ddf",
   "metadata": {},
   "source": [
    "two jupiter notebooks:\\\n",
    "BBBP_rdkit\\\n",
    "BBBP_morded\\\n",
    "where I analyzed the datases, used the same models and workflow but the different descriptors.\n",
    "\n"
   ]
  }
 ],
 "metadata": {
  "kernelspec": {
   "display_name": "AML_exam_env",
   "language": "python",
   "name": "python3"
  },
  "language_info": {
   "codemirror_mode": {
    "name": "ipython",
    "version": 3
   },
   "file_extension": ".py",
   "mimetype": "text/x-python",
   "name": "python",
   "nbconvert_exporter": "python",
   "pygments_lexer": "ipython3",
   "version": "3.9.23"
  }
 },
 "nbformat": 4,
 "nbformat_minor": 5
}
