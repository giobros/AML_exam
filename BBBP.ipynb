{
 "cells": [
  {
   "cell_type": "markdown",
   "id": "641e6225",
   "metadata": {},
   "source": [
    "BBBP DATASET:\\\n",
    "BBBP stands for Blood-Brain Barrier Penetration. The BBBP dataset consists of molecular features extracted from chemical compounds along with their BBBP values. \n",
    "This dataset includes binary labels for over 2000 compounds on their permeability properties.\n",
    "\n",
    "    The raw data csv file contains columns below:\n",
    "\n",
    "    - \"name\" - Name of the compound\n",
    "    - \"smiles\" - SMILES representation of the molecular structure (a text-based notation that encodes the structure of chemical molecules )\n",
    "    - \"p_np\" - Binary labels for penetration/non-penetration (1: Penetrates, 0: Doesn't Penetrate)\n",
    "\n"
   ]
  },
  {
   "cell_type": "code",
   "execution_count": null,
   "id": "da7ae92c",
   "metadata": {},
   "outputs": [],
   "source": [
    "from numpy import set_printoptions\n",
    "from sklearn.feature_selection import SelectKBest\n",
    "from sklearn.feature_selection import chi2\n",
    "import pandas as pd\n",
    "import os\n"
   ]
  },
  {
   "cell_type": "code",
   "execution_count": null,
   "id": "10a352e2",
   "metadata": {},
   "outputs": [],
   "source": [
    "data = pd.read_csv(\"./BBBP.csv\")  \n",
    "class_counts = data.groupby('p_np').size()\n",
    "print(class_counts)"
   ]
  },
  {
   "cell_type": "markdown",
   "id": "5ae60c53",
   "metadata": {},
   "source": [
    "<small><i>\n",
    "Class 1 (Penetrant / BBB+) is the majority class (~77%)\\\n",
    "Class 0 (Non-penetrant / BBB−) is the minority class (~23%)\n",
    "<small><i>"
   ]
  },
  {
   "cell_type": "markdown",
   "id": "a2cd18f3",
   "metadata": {},
   "source": [
    "<span style=\"color:red;\">MOLECULAR DESCRIPTIONS GENERATION:\n",
    "\n",
    "What Are Molecular Descriptors?\\\n",
    "Molecular descriptors are numerical values that quantitatively describe various chemical and physical properties of molecules. They act as features in machine learning models, enabling algorithms to \"understand\" molecules by transforming them from complex chemical structures into fixed-size numerical vectors.\n",
    "\n",
    "Below I implemented two typically used descriptor calculator: RDKit and Mordred (built on top of RDKit).\n",
    "\n",
    "Workflow:\n",
    "Converts SMILES to molecules-->\n",
    "Computes descriptors (rdkit or mordred)-->\n",
    "Cleans and scales the resulting feature set-->\n",
    "Optionally re-attaches:\n",
    "Molecule names or IDs\n",
    "Target/label values\n",
    "\n",
    "Returns the final descriptor matrix (with rdkit or mordred)"
   ]
  },
  {
   "cell_type": "code",
   "execution_count": null,
   "id": "deeddcbd",
   "metadata": {},
   "outputs": [],
   "source": [
    "import pandas as pd\n",
    "import numpy as np\n",
    "from rdkit import Chem\n",
    "from sklearn.impute import SimpleImputer\n",
    "from sklearn.preprocessing import StandardScaler\n",
    "from mordred import Calculator, descriptors as mordred_descriptors\n",
    "from rdkit.Chem import Descriptors\n",
    "from rdkit.ML.Descriptors import MoleculeDescriptors\n",
    "from rdkit import RDLogger\n",
    "RDLogger.DisableLog('rdApp.*')\n",
    "\n",
    "\n",
    "def smiles_to_mols(smiles_list):\n",
    "    mols = []\n",
    "    valid_idx = []\n",
    "    for i, smi in enumerate(smiles_list):\n",
    "        mol = Chem.MolFromSmiles(smi)\n",
    "        if mol:\n",
    "            mols.append(mol)\n",
    "            valid_idx.append(i)\n",
    "    return mols, valid_idx\n",
    "\n",
    "def compute_mordred(mols):\n",
    "    calc = Calculator(mordred_descriptors, ignore_3D=True)\n",
    "    return calc.pandas(mols)\n",
    "\n",
    "\n",
    "def compute_rdkit(mols):\n",
    "    desc_names = [d[0] for d in Descriptors._descList]\n",
    "    calc = MoleculeDescriptors.MolecularDescriptorCalculator(desc_names)\n",
    "    \n",
    "    desc_data = []\n",
    "    for mol in mols:\n",
    "        mol = Chem.AddHs(mol)\n",
    "        desc = calc.CalcDescriptors(mol)\n",
    "        desc_data.append(desc)\n",
    "    \n",
    "    return pd.DataFrame(desc_data, columns=desc_names)\n",
    "\n",
    "def clean_scale(df):\n",
    "    \"\"\"Remove columns with ≥10% missing values\n",
    "      Keep only numeric columns\n",
    "      Remove constant columns\n",
    "      Impute missing values with column means\n",
    "      Standardize (z-score normalization) all features\"\"\"\n",
    "    \n",
    "    df = df.dropna(axis=1, thresh=int(0.9 * len(df)))\n",
    "    df = df.select_dtypes(include=[np.number])\n",
    "    df = df.loc[:, (df != df.iloc[0]).any()]\n",
    "    \n",
    "    imputer = SimpleImputer(strategy='mean')\n",
    "    scaler = StandardScaler()\n",
    "    imputed = imputer.fit_transform(df)\n",
    "    scaled = scaler.fit_transform(imputed)\n",
    "    \n",
    "    return pd.DataFrame(scaled, columns=df.columns)\n",
    "\n",
    "def prepare_descriptors(data,name_col = None ,smiles_col='smiles', target_col=None, method=None):\n",
    "   \n",
    "    mols, valid_idx = smiles_to_mols(data[smiles_col])\n",
    "    smiles_valid = data.iloc[valid_idx][smiles_col].reset_index(drop=True)\n",
    "    \n",
    "    if method == 'mordred':\n",
    "        desc_df = compute_mordred(mols)\n",
    "    elif method == 'rdkit':\n",
    "        desc_df = compute_rdkit(mols)\n",
    "    else:\n",
    "        raise ValueError(\"Invalid method: choose 'rdkit' or 'mordred'\")\n",
    "\n",
    "    desc_df = clean_scale(desc_df)\n",
    "\n",
    " \n",
    "    if name_col:\n",
    "        name_series = data.iloc[valid_idx][name_col].reset_index(drop=True)\n",
    "        desc_df.insert(0, name_col, name_series)\n",
    "    if target_col:\n",
    "        target_series = data.iloc[valid_idx][target_col].reset_index(drop=True)\n",
    "        desc_df[target_col] = target_series\n",
    "\n",
    "    return desc_df\n"
   ]
  },
  {
   "cell_type": "code",
   "execution_count": null,
   "id": "0921cb84",
   "metadata": {},
   "outputs": [],
   "source": [
    "\n",
    "df_rdkit = prepare_descriptors(data,  name_col=\"name\", smiles_col=\"smiles\", target_col=\"p_np\", method=\"rdkit\")\n",
    "df_rdkit.to_csv(\"BBBP_rdkit_descriptors.csv\", index=False)\n",
    "df_mordred = prepare_descriptors(data,  name_col=\"name\",smiles_col=\"smiles\", target_col=\"p_np\", method=\"mordred\")\n",
    "df_mordred = prepare_descriptors(data,  name_col=\"name\",smiles_col=\"smiles\", target_col=\"p_np\", method=\"mordred\")\n",
    "df_mordred.to_csv(\"BBBP_mordred_descriptors.csv\", index=False)"
   ]
  }
 ],
 "metadata": {
  "kernelspec": {
   "display_name": "AML_exam_env",
   "language": "python",
   "name": "python3"
  },
  "language_info": {
   "codemirror_mode": {
    "name": "ipython",
    "version": 3
   },
   "file_extension": ".py",
   "mimetype": "text/x-python",
   "name": "python",
   "nbconvert_exporter": "python",
   "pygments_lexer": "ipython3",
   "version": "3.9.23"
  }
 },
 "nbformat": 4,
 "nbformat_minor": 5
}
